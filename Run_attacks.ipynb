{
  "cells": [
    {
      "cell_type": "code",
      "execution_count": 4,
      "metadata": {
        "colab": {
          "base_uri": "https://localhost:8080/"
        },
        "id": "INwCZSHfiND8",
        "outputId": "412a4149-4070-4efa-d5fc-4a0c30d0bd2a"
      },
      "outputs": [
        {
          "name": "stdout",
          "output_type": "stream",
          "text": [
            "[Errno 2] No such file or directory: 'AttacksAdversarial'\n",
            "/Users/trancatkhanh/Desktop/AttacksAdversarial\n"
          ]
        }
      ],
      "source": [
        "%cd AttacksAdversarial\n"
      ]
    },
    {
      "cell_type": "code",
      "execution_count": 5,
      "metadata": {
        "colab": {
          "base_uri": "https://localhost:8080/"
        },
        "id": "35FVW1O1X3sy",
        "outputId": "147ce8b5-e5ae-45ac-d7fa-f1111e4fead0"
      },
      "outputs": [
        {
          "name": "stdout",
          "output_type": "stream",
          "text": [
            "Traceback (most recent call last):\n",
            "  File \"/Users/trancatkhanh/Desktop/AttacksAdversarial/run_attack.py\", line 1, in <module>\n",
            "    import dlib\n",
            "ModuleNotFoundError: No module named 'dlib'\n"
          ]
        }
      ],
      "source": [
        "!python3 run_attack.py"
      ]
    },
    {
      "cell_type": "code",
      "execution_count": null,
      "metadata": {
        "id": "MfCU_BFGiLuQ"
      },
      "outputs": [],
      "source": []
    }
  ],
  "metadata": {
    "accelerator": "GPU",
    "colab": {
      "gpuType": "T4",
      "provenance": []
    },
    "kernelspec": {
      "display_name": "Python 3",
      "name": "python3"
    },
    "language_info": {
      "codemirror_mode": {
        "name": "ipython",
        "version": 3
      },
      "file_extension": ".py",
      "mimetype": "text/x-python",
      "name": "python",
      "nbconvert_exporter": "python",
      "pygments_lexer": "ipython3",
      "version": "3.9.7"
    }
  },
  "nbformat": 4,
  "nbformat_minor": 0
}
